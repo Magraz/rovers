{
 "cells": [
  {
   "cell_type": "code",
   "execution_count": 1,
   "metadata": {},
   "outputs": [
    {
     "name": "stdout",
     "output_type": "stream",
     "text": [
      "0-1-2-3\n"
     ]
    },
    {
     "data": {
      "image/png": "[encoded data removed]",
      "text/plain": [
       "<Figure size 640x480 with 1 Axes>"
      ]
     },
     "metadata": {},
     "output_type": "display_data"
    }
   ],
   "source": [
    "\n",
    "import matplotlib.pyplot as plt\n",
    "from collections import defaultdict\n",
    "import csv \n",
    "\n",
    "\n",
    "traj_path = f\"/home/magraz/rovers/pyrover_domain/tests/trajectory.csv\"\n",
    "\n",
    "dd=defaultdict(list)\n",
    "\n",
    "with open(traj_path,'r') as csvfile: \n",
    "    for line in csv.DictReader(csvfile):\n",
    "        for key, value in line.items():\n",
    "            if key != '':\n",
    "                if value == 'None':\n",
    "                    value = 0\n",
    "                if isinstance(value, str):\n",
    "                    if value.find('-') > 0 :\n",
    "                        dd[key].append(value)\n",
    "                    else:\n",
    "                        dd[key].append(float(value))\n",
    "                elif isinstance(value, list):\n",
    "                    dd[key].append([float(x) if x != 'None' else 0 for x in value])\n",
    "\n",
    "fig=plt.figure()\n",
    "ax=fig.add_subplot(111)\n",
    "\n",
    "#PLOT POSITIONS\n",
    "print(dd[\"team_formation\"][0])\n",
    "\n",
    "colors = [\"blue\", \"orange\", \"red\", \"green\", \"yellow\"]\n",
    "markers = [\"D\", \"x\", \"^\", \"o\", \"+\"]\n",
    "\n",
    "team_idxs = [int(x) for x in dd[\"team_formation\"][0].split('-')]\n",
    "\n",
    "ax.plot(dd[\"rover_poi_0_x\"], dd[\"rover_poi_0_y\"], marker=\"*\", markersize=8, color=\"black\", zorder=10)\n",
    "ax.plot(dd[\"rover_poi_1_x\"], dd[\"rover_poi_1_y\"], marker=\"*\", markersize=8, color=\"black\", zorder=10)\n",
    "ax.plot(dd[\"rover_poi_2_x\"], dd[\"rover_poi_2_y\"], marker=\"*\", markersize=8, color=\"black\", zorder=10)\n",
    "ax.plot(dd[\"rover_poi_3_x\"], dd[\"rover_poi_3_y\"], marker=\"*\", markersize=8, color=\"black\", zorder=10)\n",
    "ax.plot(dd[\"rover_poi_4_x\"], dd[\"rover_poi_4_y\"], marker=\"*\", markersize=8, color=\"black\", zorder=10)\n",
    "ax.plot(dd[\"rover_poi_5_x\"], dd[\"rover_poi_5_y\"], marker=\"*\", markersize=8, color=\"black\", zorder=10)\n",
    "ax.plot(dd[\"rover_poi_6_x\"], dd[\"rover_poi_6_y\"], marker=\"*\", markersize=8, color=\"black\", zorder=10)\n",
    "ax.plot(dd[\"rover_poi_7_x\"], dd[\"rover_poi_7_y\"], marker=\"*\", markersize=8, color=\"black\", zorder=10)\n",
    "ax.plot(dd[\"rover_poi_8_x\"], dd[\"rover_poi_8_y\"], marker=\"*\", markersize=8, color=\"black\", zorder=10)\n",
    "\n",
    "ax.scatter(dd[\"rover_0_x\"], dd[\"rover_0_y\"], marker=markers[team_idxs[0]], color=colors[team_idxs[0]])\n",
    "ax.scatter(dd[\"rover_1_x\"], dd[\"rover_1_y\"], marker=markers[team_idxs[1]], color=colors[team_idxs[1]])\n",
    "ax.scatter(dd[\"rover_2_x\"], dd[\"rover_2_y\"], marker=markers[team_idxs[2]], color=colors[team_idxs[2]])\n",
    "ax.scatter(dd[\"rover_3_x\"], dd[\"rover_3_y\"], marker=markers[team_idxs[3]], color=colors[team_idxs[3]])\n",
    "\n",
    "ax.set_xlim(0, 50) \n",
    "ax.set_ylim(0, 50)\n",
    "ax.set_xlabel('X') \n",
    "ax.set_ylabel('Y')\n",
    "\n",
    "plt.show() "
   ]
  }
 ],
 "metadata": {
  "kernelspec": {
   "display_name": "rovers_env",
   "language": "python",
   "name": "python3"
  },
  "language_info": {
   "codemirror_mode": {
    "name": "ipython",
    "version": 3
   },
   "file_extension": ".py",
   "mimetype": "text/x-python",
   "name": "python",
   "nbconvert_exporter": "python",
   "pygments_lexer": "ipython3",
   "version": "3.10.12"
  }
 },
 "nbformat": 4,
 "nbformat_minor": 2
}
