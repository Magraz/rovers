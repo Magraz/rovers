{
 "cells": [
  {
   "cell_type": "code",
   "execution_count": 1,
   "metadata": {},
   "outputs": [],
   "source": [
    "import pickle\n",
    "import torch\n",
    "from copy import deepcopy\n",
    "from pyrover_domain.ccea.ccea_lib import CooperativeCoevolutionaryAlgorithm\n",
    "\n",
    "DEVICE = \"cuda\" if torch.cuda.is_available() else \"cpu\"\n",
    "\n",
    "trial_name = \"trial_0_multi_mlp_decay_alt_order\"\n",
    "config_name = \"multi_agent_decay_mlp.yaml\"\n",
    "\n",
    "test_dir = \"/home/magraz/rovers/pyrover_domain/tests\"\n",
    "checkpoint_file = f\"/home/magraz/rovers/pyrover_domain/config/{trial_name}/checkpoint.pickle\"\n",
    "config_file = f\"/home/magraz/rovers/pyrover_domain/config/{config_name}\"\n",
    "\n",
    "ccea = CooperativeCoevolutionaryAlgorithm(config_file)\n",
    "\n",
    "with open(checkpoint_file, \"rb\") as handle:\n",
    "    checkpoint = pickle.load(handle)\n",
    "    pop = checkpoint[\"population\"]\n",
    "    ccea.gen = checkpoint[\"last_gen\"]\n",
    "\n",
    "# Form teams for evaluation\n",
    "teams = ccea.formTeams(pop)\n",
    "\n",
    "# Evaluate each team\n",
    "eval_infos = ccea.evaluateTeams(teams)"
   ]
  },
  {
   "cell_type": "code",
   "execution_count": 2,
   "metadata": {},
   "outputs": [],
   "source": [
    "best_team_idx = 0\n",
    "best_team_fitness = 0\n",
    "\n",
    "for idx, eval_info in enumerate(eval_infos):\n",
    "    if eval_info.team_fitness > best_team_fitness:\n",
    "          best_team_idx = idx\n",
    " \n",
    "best_eval_info = ccea.evaluateTeam(teams[best_team_idx])\n",
    "\n",
    "ccea.writeEvalTrajs(test_dir, [best_eval_info])\n"
   ]
  }
 ],
 "metadata": {
  "kernelspec": {
   "display_name": "rovers",
   "language": "python",
   "name": "python3"
  },
  "language_info": {
   "codemirror_mode": {
    "name": "ipython",
    "version": 3
   },
   "file_extension": ".py",
   "mimetype": "text/x-python",
   "name": "python",
   "nbconvert_exporter": "python",
   "pygments_lexer": "ipython3",
   "version": "3.10.12"
  }
 },
 "nbformat": 4,
 "nbformat_minor": 2
}
