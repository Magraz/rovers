{
 "cells": [
  {
   "cell_type": "code",
   "execution_count": 25,
   "metadata": {},
   "outputs": [
    {
     "data": {
      "image/png": "[encoded data removed]",
      "text/plain": [
       "<Figure size 640x480 with 1 Axes>"
      ]
     },
     "metadata": {},
     "output_type": "display_data"
    }
   ],
   "source": [
    "\n",
    "import matplotlib.pyplot as plt\n",
    "from collections import defaultdict\n",
    "import csv \n",
    "gen = 1220\n",
    "team = 0\n",
    "trial_name = \"trial_0_multi_mlp_regular\"\n",
    "\n",
    "trial_traj_path = f\"/home/magraz/rovers/pyrover_domain/config/{trial_name}/gen_{gen}/eval_team_{team}_joint_traj.csv\"\n",
    "test_traj_path = f\"/home/magraz/rovers/pyrover_domain/tests/gen_420/eval_team_0_joint_traj.csv\"\n",
    "\n",
    "traj_path = trial_traj_path\n",
    "\n",
    "dd=defaultdict(list)\n",
    "\n",
    "with open(traj_path,'r') as csvfile: \n",
    "    for line in csv.DictReader(csvfile):\n",
    "        for key, value in line.items():\n",
    "            if key != '':\n",
    "                if value == 'None':\n",
    "                    value = 0\n",
    "                if isinstance(value, str):\n",
    "                    dd[key].append(float(value))\n",
    "                elif isinstance(value, list):\n",
    "                    dd[key].append([float(x) if x != 'None' else 0 for x in value])\n",
    "\n",
    "fig=plt.figure()\n",
    "ax=fig.add_subplot(111)\n",
    "\n",
    "#PLOT POSITIONS\n",
    "\n",
    "ax.plot(dd[\"rover_poi_0_x\"], dd[\"rover_poi_0_y\"], marker=\"*\", markersize=8, color=\"black\")\n",
    "ax.plot(dd[\"rover_poi_1_x\"], dd[\"rover_poi_1_y\"], marker=\"*\", markersize=8, color=\"black\")\n",
    "ax.plot(dd[\"rover_poi_2_x\"], dd[\"rover_poi_2_y\"], marker=\"*\", markersize=8, color=\"black\")\n",
    "\n",
    "ax.scatter(dd[\"rover_0_x\"], dd[\"rover_0_y\"], marker=\"D\")\n",
    "ax.scatter(dd[\"rover_1_x\"], dd[\"rover_1_y\"], marker=\"x\")\n",
    "ax.scatter(dd[\"rover_2_x\"], dd[\"rover_2_y\"], marker=\"^\")\n",
    "ax.scatter(dd[\"rover_3_x\"], dd[\"rover_3_y\"], marker=\".\")\n",
    "\n",
    "ax.set_xlim(0, 50) \n",
    "ax.set_ylim(0, 50)\n",
    "ax.set_xlabel('X') \n",
    "ax.set_ylabel('Y') \n",
    "\n",
    "#PLOT HEADING\n",
    "\n",
    "# ax.scatter(dd[\"rover_1_dx\"], dd[\"rover_1_dy\"]) \n",
    "# ax.set_xlim(-1, 1)\n",
    "# ax.set_ylim(-1, 1)\n",
    "# ax.set_xlabel('dx')\n",
    "# ax.set_ylabel('dy') \n",
    "\n",
    "plt.show() "
   ]
  }
 ],
 "metadata": {
  "kernelspec": {
   "display_name": "rovers_env",
   "language": "python",
   "name": "python3"
  },
  "language_info": {
   "codemirror_mode": {
    "name": "ipython",
    "version": 3
   },
   "file_extension": ".py",
   "mimetype": "text/x-python",
   "name": "python",
   "nbconvert_exporter": "python",
   "pygments_lexer": "ipython3",
   "version": "3.10.12"
  }
 },
 "nbformat": 4,
 "nbformat_minor": 2
}
