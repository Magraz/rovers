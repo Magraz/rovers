{
 "cells": [
  {
   "cell_type": "code",
   "execution_count": null,
   "metadata": {},
   "outputs": [],
   "source": [
    "\n",
    "import matplotlib.pyplot as plt\n",
    "from collections import defaultdict\n",
    "import csv \n",
    "import numpy as np\n",
    "\n",
    "trial = 1\n",
    "std_fitness_path = f\"/home/magraz/rovers/pyrover_domain/experiments/results/trial_{trial}_decay_gru_teaming/fitness.csv\"\n",
    "hpc_fitness_path = f\"/home/magraz/rovers/pyrover_domain/experiments/results/hpc/trial_{trial}/fitness_teaming_{trial}.csv\"\n",
    " \n",
    "fitness_path =std_fitness_path\n",
    "dd=defaultdict(list)\n",
    "\n",
    "def movingaverage(interval, window_size):\n",
    "    window= np.ones(int(window_size))/float(window_size) \n",
    "    return np.convolve(interval, window, 'same')\n",
    "\n",
    "with open(fitness_path,'r') as csvfile: \n",
    "    for line in csv.DictReader(csvfile):\n",
    "        for key, value in line.items():\n",
    "            if key != '' and value != '' and value != None and not isinstance(value, list):\n",
    "                dd[key].append(float(value))\n",
    "\n",
    "fig=plt.figure()\n",
    "ax=fig.add_subplot(111)\n",
    "\n",
    "y_av = movingaverage(dd[\"team_fitness_aggregated\"], 20) \n",
    " \n",
    "ax.plot(dd[\"generation\"], y_av)\n",
    "\n",
    "ax.set_xlabel('gen') \n",
    "ax.set_ylabel('fitness') \n",
    "\n",
    "plt.show() "
   ]
  }
 ],
 "metadata": {
  "kernelspec": {
   "display_name": "rovers",
   "language": "python",
   "name": "python3"
  },
  "language_info": {
   "codemirror_mode": {
    "name": "ipython",
    "version": 3
   },
   "file_extension": ".py",
   "mimetype": "text/x-python",
   "name": "python",
   "nbconvert_exporter": "python",
   "pygments_lexer": "ipython3",
   "version": "3.10.12"
  }
 },
 "nbformat": 4,
 "nbformat_minor": 2
}
