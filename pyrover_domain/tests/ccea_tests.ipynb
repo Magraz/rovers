{
 "cells": [
  {
   "cell_type": "code",
   "execution_count": 17,
   "metadata": {},
   "outputs": [
    {
     "name": "stdout",
     "output_type": "stream",
     "text": [
      "tensor([-0.1561, -0.3193], grad_fn=<TanhBackward0>)\n",
      "tensor([-0.2503, -0.2927], grad_fn=<TanhBackward0>)\n"
     ]
    }
   ],
   "source": [
    "from pyrover_domain.ccea.ccea_lib import CooperativeCoevolutionaryAlgorithm\n",
    "from pyrover_domain.models.mlp import MLP_Policy\n",
    "import torch\n",
    "config_dir = \"/home/magraz/rovers/pyrover_domain/config/experiment_1.yaml\"\n",
    "\n",
    "ccea = CooperativeCoevolutionaryAlgorithm(config_dir)\n",
    "\n",
    "agent_nn = MLP_Policy(input_size=2*ccea.num_rover_sectors, hidden_size=ccea.num_hidden[0], output_size=2)\n",
    "\n",
    "# Initialize the population\n",
    "\n",
    "input = torch.tensor([-1,-1,-1,-1,-1,-1,-1,-1], dtype=torch.float)\n",
    "\n",
    "pop = ccea.population()\n",
    "\n",
    "offspring = pop[0][0]\n",
    "\n",
    "agent_nn.set_params(torch.tensor(offspring))\n",
    "\n",
    "print(agent_nn.forward(input))\n",
    "\n",
    "ccea.mutateIndividual(offspring)\n",
    "\n",
    "agent_nn.set_params(torch.tensor(offspring))\n",
    "\n",
    "print(agent_nn.forward(input))\n",
    "\n",
    "\n",
    "\n"
   ]
  }
 ],
 "metadata": {
  "kernelspec": {
   "display_name": "rovers_env",
   "language": "python",
   "name": "python3"
  },
  "language_info": {
   "codemirror_mode": {
    "name": "ipython",
    "version": 3
   },
   "file_extension": ".py",
   "mimetype": "text/x-python",
   "name": "python",
   "nbconvert_exporter": "python",
   "pygments_lexer": "ipython3",
   "version": "3.10.12"
  }
 },
 "nbformat": 4,
 "nbformat_minor": 2
}
